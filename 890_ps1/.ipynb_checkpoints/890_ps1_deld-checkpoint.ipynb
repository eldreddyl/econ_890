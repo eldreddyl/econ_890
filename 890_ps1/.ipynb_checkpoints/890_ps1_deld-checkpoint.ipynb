{
 "cells": [
  {
   "cell_type": "markdown",
   "id": "5f5c76fc-3e9b-442f-a880-401bb3dfe166",
   "metadata": {},
   "source": [
    "# ECON 890: Problem Set 1\n",
    "## Dylan Eldred"
   ]
  },
  {
   "cell_type": "code",
   "execution_count": 4,
   "id": "bf6a7b31-2063-4390-a6ba-fbcc68d53fef",
   "metadata": {},
   "outputs": [],
   "source": [
    "# Packages \n",
    "import quantecon as qe\n",
    "import numpy as np\n",
    "import jax\n",
    "import jax.numpy as jnp\n",
    "import matplotlib.pyplot as plt\n",
    "from collections import namedtuple\n",
    "from time import time"
   ]
  },
  {
   "cell_type": "code",
   "execution_count": null,
   "id": "c3625b3c-cd71-446b-9437-1b7b1a6825b0",
   "metadata": {},
   "outputs": [],
   "source": [
    "# Model Parameters\n",
    "\n",
    "## Fixed Parameters\n",
    "beta_discount= 0.9985 # Discount factor\n",
    "alpha_death = 0.0009 # Probability of dying\n",
    "lambda_layoff = 0.009 # Probability of being laid off\n",
    "psi_f = 30\n",
    "psi_u = 10\n",
    "b = 0.1 # Unemployment Benefits\n",
    "tax_rate\n",
    "\n",
    "## Random Parameters\n",
    "human_cap = np.random.uniform(low = 1, high=2, size = 201) #Newborns draw human capital distributed uniform[1,2] with 201 nodes\n",
    "wage_dist"
   ]
  }
 ],
 "metadata": {
  "kernelspec": {
   "display_name": "Python 3 (ipykernel)",
   "language": "python",
   "name": "python3"
  },
  "language_info": {
   "codemirror_mode": {
    "name": "ipython",
    "version": 3
   },
   "file_extension": ".py",
   "mimetype": "text/x-python",
   "name": "python",
   "nbconvert_exporter": "python",
   "pygments_lexer": "ipython3",
   "version": "3.12.5"
  }
 },
 "nbformat": 4,
 "nbformat_minor": 5
}
